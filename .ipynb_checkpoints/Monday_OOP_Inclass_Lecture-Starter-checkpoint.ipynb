{
 "cells": [
  {
   "cell_type": "markdown",
   "metadata": {},
   "source": [
    "# Object-Oriented-Programming (OOP)"
   ]
  },
  {
   "cell_type": "markdown",
   "metadata": {},
   "source": [
    "## Tasks Today:\n",
    "\n",
    "   \n",
    "\n",
    "1) <b>Creating a Class (Initializing/Declaring)</b> <br>\n",
    "2) <b>Using a Class (Instantiating)</b> <br>\n",
    " &nbsp;&nbsp;&nbsp;&nbsp; a) Creating One Instance <br>\n",
    " &nbsp;&nbsp;&nbsp;&nbsp; b) Creating Multiple Instances <br>\n",
    " &nbsp;&nbsp;&nbsp;&nbsp; c) In-Class Exercise #1 - Create a Class 'Car' and instantiate three different makes of cars <br>\n",
    "3) <b>The \\__init\\__() Method</b> <br>\n",
    " &nbsp;&nbsp;&nbsp;&nbsp; a) The 'self' Attribute <br>\n",
    "4) <b>Class Attributes</b> <br>\n",
    " &nbsp;&nbsp;&nbsp;&nbsp; a) Initializing Attributes <br>\n",
    " &nbsp;&nbsp;&nbsp;&nbsp; b) Setting an Attribute Outside of the \\__init\\__() Method <br>\n",
    " &nbsp;&nbsp;&nbsp;&nbsp; c) Setting Defaults for Attributes <br>\n",
    " &nbsp;&nbsp;&nbsp;&nbsp; d) Accessing Class Attributes <br>\n",
    " &nbsp;&nbsp;&nbsp;&nbsp; e) Changing Class Attributes <br>\n",
    " &nbsp;&nbsp;&nbsp;&nbsp; f) In-Class Exercise #2 - Update your 'Car' class with \\__init\\__() method and class attributes<br>\n",
    "5) <b>Class Methods</b> <br>\n",
    " &nbsp;&nbsp;&nbsp;&nbsp; a) Creating <br>\n",
    " &nbsp;&nbsp;&nbsp;&nbsp; b) Calling <br>\n",
    " &nbsp;&nbsp;&nbsp;&nbsp; c) Modifying an Attribute's Value Through a Method <br>\n",
    " &nbsp;&nbsp;&nbsp;&nbsp; d) Incrementing an Attribute's Value Through a Method <br>\n",
    " &nbsp;&nbsp;&nbsp;&nbsp; e) In-Class Exercise #3 - Update Car class with new methods <br>\n",
    "6) <b>Classes as Attributes</b> <br>\n",
    "8) <b>Exercises</b> <br>\n",
    " &nbsp;&nbsp;&nbsp;&nbsp; a) Exercise #1 - Turn the shopping cart program from yesterday into an object-oriented program <br>\n",
    "  &nbsp;&nbsp;&nbsp;&nbsp; a) Exercise #2 - Create an Animal class with Eat, Sleep, and Play methods <br>"
   ]
  },
  {
   "cell_type": "code",
   "execution_count": null,
   "metadata": {},
   "outputs": [],
   "source": []
  },
  {
   "cell_type": "markdown",
   "metadata": {},
   "source": [
    "#### Object-Oriented Programming"
   ]
  },
  {
   "cell_type": "markdown",
   "metadata": {},
   "source": [
    "Object-Oriented Programming (OOP) allows us to create programs so that that properties and behaviors are bundled into **objects**. OOP models real-world entities as software objects that have some data associated with them and can perform certain functions."
   ]
  },
  {
   "cell_type": "markdown",
   "metadata": {},
   "source": [
    "## Creating a Class (Initializing/Declaring)\n",
    "<p>When creating a class, function, or even a variable you are initializing that object. Initializing and Declaring occur at the same time in Python, whereas in lower level languages you have to declare an object before initializing it. This is the first step in the process of using a class.</p>"
   ]
  },
  {
   "cell_type": "code",
   "execution_count": 4,
   "metadata": {},
   "outputs": [
    {
     "name": "stdout",
     "output_type": "stream",
     "text": [
      "Help on class Student in module __main__:\n",
      "\n",
      "class Student(builtins.object)\n",
      " |  Data descriptors defined here:\n",
      " |  \n",
      " |  __dict__\n",
      " |      dictionary for instance variables (if defined)\n",
      " |  \n",
      " |  __weakref__\n",
      " |      list of weak references to the object (if defined)\n",
      "\n"
     ]
    }
   ],
   "source": [
    "# Syntax: class ClassName(): or class ClassName:    *Pascal Case (i.e caps to start all)\n",
    "\n",
    "class Student():\n",
    "    pass\n",
    "\n",
    "help(Student)"
   ]
  },
  {
   "cell_type": "markdown",
   "metadata": {},
   "source": [
    "## Using a Class (Instantiating)\n",
    "<p>The process of creating a class is called <i>Instantiating</i>. Each time you create a variable of that type of class, it is referred to as an <i>Instance</i> of that class. This is the second step in the process of using a class.</p>"
   ]
  },
  {
   "cell_type": "code",
   "execution_count": 3,
   "metadata": {},
   "outputs": [
    {
     "ename": "SyntaxError",
     "evalue": "invalid syntax (4178536720.py, line 1)",
     "output_type": "error",
     "traceback": [
      "\u001b[1;36m  Cell \u001b[1;32mIn[3], line 1\u001b[1;36m\u001b[0m\n\u001b[1;33m    help(type.class)\u001b[0m\n\u001b[1;37m              ^\u001b[0m\n\u001b[1;31mSyntaxError\u001b[0m\u001b[1;31m:\u001b[0m invalid syntax\n"
     ]
    }
   ],
   "source": []
  },
  {
   "cell_type": "markdown",
   "metadata": {},
   "source": [
    "##### Creating One Instance"
   ]
  },
  {
   "cell_type": "code",
   "execution_count": null,
   "metadata": {},
   "outputs": [],
   "source": []
  },
  {
   "cell_type": "markdown",
   "metadata": {},
   "source": [
    "##### Creating Multiple Instances"
   ]
  },
  {
   "cell_type": "code",
   "execution_count": null,
   "metadata": {},
   "outputs": [],
   "source": []
  },
  {
   "cell_type": "markdown",
   "metadata": {},
   "source": [
    "##### Adding attributes to instances"
   ]
  },
  {
   "cell_type": "code",
   "execution_count": null,
   "metadata": {},
   "outputs": [],
   "source": []
  },
  {
   "cell_type": "markdown",
   "metadata": {},
   "source": [
    "##### In-Class Exercise #1 - Create a Class 'Car' and Instantiate three different car instances. Add a different make for each car."
   ]
  },
  {
   "cell_type": "code",
   "execution_count": 11,
   "metadata": {},
   "outputs": [
    {
     "name": "stdout",
     "output_type": "stream",
     "text": [
      "The car is a blue Toyota.\n",
      "The car is a black Subaru.\n",
      "The car is a red Honda.\n"
     ]
    }
   ],
   "source": [
    "class Car():\n",
    "    def __init__(self, make, color):\n",
    "        self.make = make\n",
    "        self.color = color\n",
    "        \n",
    "    def detail(self):\n",
    "        return f'The car is a {self.color} {self.make}.'\n",
    "    \n",
    "my_car = Car('Toyota', 'blue')\n",
    "your_car = Car('Subaru', 'black')\n",
    "your_car2 = Car('Honda', 'red')\n",
    "\n",
    "print(my_car.detail())\n",
    "print(your_car.detail())\n",
    "print(your_car2.detail())"
   ]
  },
  {
   "cell_type": "markdown",
   "metadata": {},
   "source": [
    "## The \\__init\\__() Method <br>\n",
    "<p>This method is used in almost every created class, and called only once upon the creation of the class instance. This method will initialize all variables needed for the object.</p>"
   ]
  },
  {
   "cell_type": "markdown",
   "metadata": {},
   "source": [
    "##### The 'self' Attribute <br>\n",
    "<p>This attribute is required to keep track of specific instance's attributes. Without the self attribute, the program would not know how to reference or keep track of an instance's attributes.</p>"
   ]
  },
  {
   "cell_type": "code",
   "execution_count": null,
   "metadata": {},
   "outputs": [],
   "source": []
  },
  {
   "cell_type": "code",
   "execution_count": null,
   "metadata": {},
   "outputs": [],
   "source": []
  },
  {
   "cell_type": "code",
   "execution_count": null,
   "metadata": {},
   "outputs": [],
   "source": []
  },
  {
   "cell_type": "markdown",
   "metadata": {},
   "source": [
    "## Class Attributes <br>\n",
    "<p>While variables are inside of a class, they are referred to as attributes and not variables. When someone says 'attribute' you know they're speaking about a class. Attributes can be initialized through the init method, or outside of it.</p>"
   ]
  },
  {
   "cell_type": "markdown",
   "metadata": {},
   "source": [
    "##### Initializing Attributes"
   ]
  },
  {
   "cell_type": "code",
   "execution_count": null,
   "metadata": {},
   "outputs": [],
   "source": []
  },
  {
   "cell_type": "markdown",
   "metadata": {},
   "source": [
    "##### Accessing Class Attributes"
   ]
  },
  {
   "cell_type": "code",
   "execution_count": null,
   "metadata": {
    "scrolled": true
   },
   "outputs": [],
   "source": [
    "# See Above"
   ]
  },
  {
   "cell_type": "markdown",
   "metadata": {},
   "source": [
    "##### Setting Defaults for Attributes"
   ]
  },
  {
   "cell_type": "code",
   "execution_count": null,
   "metadata": {},
   "outputs": [],
   "source": []
  },
  {
   "cell_type": "markdown",
   "metadata": {},
   "source": [
    "##### Changing Class Attributes <br>\n",
    "<p>Keep in mind there are global class attributes and then there are attributes only available to each class instance which won't effect other classes.</p>"
   ]
  },
  {
   "cell_type": "code",
   "execution_count": null,
   "metadata": {},
   "outputs": [],
   "source": []
  },
  {
   "cell_type": "code",
   "execution_count": null,
   "metadata": {},
   "outputs": [],
   "source": []
  },
  {
   "cell_type": "code",
   "execution_count": null,
   "metadata": {},
   "outputs": [],
   "source": []
  },
  {
   "cell_type": "markdown",
   "metadata": {},
   "source": [
    "##### In-Class Exercise 2 - Create an \\__init__ method for your Car class which takes in color and model with a default value for gas_level of 100. Your class should also have a class attribute for model. Once you have created the class, instantiate 3 different cars"
   ]
  },
  {
   "cell_type": "code",
   "execution_count": 246,
   "metadata": {},
   "outputs": [
    {
     "name": "stdout",
     "output_type": "stream",
     "text": [
      "The car is a blue Toyota.\n",
      "The car is a black Subaru.\n",
      "The car is a red Honda.\n"
     ]
    }
   ],
   "source": [
    "class Car():\n",
    "    def __init__(self, make, color):\n",
    "        self.make = make\n",
    "        self.color = color\n",
    "        self.gas_level = 100\n",
    "        \n",
    "    def detail(self):\n",
    "        return f'The car is a {self.color} {self.make}.'\n",
    "    \n",
    "my_car = Car('Toyota', 'blue')\n",
    "your_car = Car('Subaru', 'black')\n",
    "your_car2 = Car('Honda', 'red')\n",
    "\n",
    "print(my_car.detail())\n",
    "print(your_car.detail())\n",
    "print(your_car2.detail())"
   ]
  },
  {
   "cell_type": "markdown",
   "metadata": {},
   "source": [
    "## Class Methods <br>\n",
    "<p>While inside of a class, functions are referred to as 'methods'. If you hear someone mention methods, they're speaking about classes. Methods are essentially functions, but only callable on the instances of a class.</p>"
   ]
  },
  {
   "cell_type": "markdown",
   "metadata": {},
   "source": [
    "##### Creating"
   ]
  },
  {
   "cell_type": "code",
   "execution_count": null,
   "metadata": {},
   "outputs": [],
   "source": []
  },
  {
   "cell_type": "code",
   "execution_count": null,
   "metadata": {},
   "outputs": [],
   "source": []
  },
  {
   "cell_type": "markdown",
   "metadata": {},
   "source": [
    "##### Calling"
   ]
  },
  {
   "cell_type": "code",
   "execution_count": null,
   "metadata": {},
   "outputs": [],
   "source": []
  },
  {
   "cell_type": "markdown",
   "metadata": {},
   "source": [
    "##### Modifying an Attribute's Value Through a Method"
   ]
  },
  {
   "cell_type": "code",
   "execution_count": null,
   "metadata": {},
   "outputs": [],
   "source": []
  },
  {
   "cell_type": "code",
   "execution_count": null,
   "metadata": {},
   "outputs": [],
   "source": []
  },
  {
   "cell_type": "markdown",
   "metadata": {},
   "source": [
    "##### Incrementing an Attribute's Value Through a Method"
   ]
  },
  {
   "cell_type": "code",
   "execution_count": null,
   "metadata": {},
   "outputs": [],
   "source": []
  },
  {
   "cell_type": "markdown",
   "metadata": {},
   "source": [
    "##### In-Class Exercise #3 - Add two methods to your car class. One method called `drive` that will take in the number of miles and decrease that car's `gas_level` by 1 unit for every 5 miles. Another method called `fill_up` will take in gallons and increase the `gas_level` by 10 units for every gallon."
   ]
  },
  {
   "cell_type": "code",
   "execution_count": 257,
   "metadata": {},
   "outputs": [
    {
     "name": "stdout",
     "output_type": "stream",
     "text": [
      "The car is a blue Toyota.\n",
      "The car is a black Subaru.\n",
      "The car is a red Honda.\n",
      "\n",
      "\n",
      "The blue Toyota drove 400 miles and its gas level is now 20\n",
      "The black Subaru drove 200 miles and its gas level is now 60\n",
      "The red Honda drove 500 miles before you ran out of gas! There's no station in sight...\n",
      "\n",
      "\n",
      "The blue Toyota filled up with 10 gallons of gas. The blue Toyota now have a gas level of 120.\n",
      "The black Subaru filled up with 1 gallons of gas. The black Subaru now have a gas level of 70.\n",
      "The red Honda filled up with 450 gallons of gas. The red Honda now have a gas level of 4320.\n"
     ]
    }
   ],
   "source": [
    "class Car():\n",
    "    def __init__(self, make, color):\n",
    "        self.make = make\n",
    "        self.color = color\n",
    "        self.gas_level = 100\n",
    "        \n",
    "    def detail(self):\n",
    "        return f'The car is a {self.color} {self.make}.'\n",
    "    \n",
    "    def drive(self, distance):\n",
    "        max_distance = self.gas_level*5\n",
    "        self.gas_level -= distance//5\n",
    "        if self.gas_level <= 0:\n",
    "            print(f'The {self.color} {self.make} drove {max_distance} miles before you ran out of gas! There\\'s no station in sight...')\n",
    "        else:\n",
    "            print(f'The {self.color} {self.make} drove {distance} miles and its gas level is now {self.gas_level}')\n",
    "    \n",
    "    def fill_up(self, vol):\n",
    "        self.gas_level += vol*10\n",
    "        print(f'The {self.color} {self.make} filled up with {vol} gallons of gas. The {self.color} {self.make} now have a gas level of {self.gas_level}.')\n",
    "    \n",
    "my_car = Car('Toyota', 'blue')\n",
    "your_car = Car('Subaru', 'black')\n",
    "your_car2 = Car('Honda', 'red')\n",
    "\n",
    "print(my_car.detail())\n",
    "print(your_car.detail())\n",
    "print(your_car2.detail())\n",
    "print('\\n')\n",
    "\n",
    "my_car.drive(400)\n",
    "your_car.drive(200)\n",
    "your_car2.drive(1400)\n",
    "print('\\n')\n",
    "\n",
    "my_car.fill_up(10)\n",
    "your_car.fill_up(1)\n",
    "your_car2.fill_up(450)"
   ]
  },
  {
   "cell_type": "markdown",
   "metadata": {},
   "source": [
    "## Classes as Attributes <br>\n",
    "<p>Classes can also be used as attributes within another class. This is useful in situations where you need to keep variables locally stored, instead of globally stored.</p>"
   ]
  },
  {
   "cell_type": "code",
   "execution_count": null,
   "metadata": {},
   "outputs": [],
   "source": []
  },
  {
   "cell_type": "code",
   "execution_count": null,
   "metadata": {},
   "outputs": [],
   "source": []
  },
  {
   "cell_type": "code",
   "execution_count": null,
   "metadata": {},
   "outputs": [],
   "source": []
  },
  {
   "cell_type": "markdown",
   "metadata": {},
   "source": [
    "# Exercises"
   ]
  },
  {
   "cell_type": "markdown",
   "metadata": {},
   "source": [
    "### Exercise 1 - Turn the shopping cart program into an object-oriented program"
   ]
  },
  {
   "cell_type": "code",
   "execution_count": 230,
   "metadata": {},
   "outputs": [
    {
     "name": "stdout",
     "output_type": "stream",
     "text": [
      "apple - 99 - $290.3\n",
      "banana - 5 - $49.42\n",
      "Total cost: $339.73\n"
     ]
    }
   ],
   "source": [
    "# Create a class called cart that retains items and has methods to add, remove, and show\n",
    "import random\n",
    "\n",
    "class Cart():\n",
    "    def __init__(self):\n",
    "        self.content = []\n",
    "        self.item_list = {}\n",
    "        self.price = 0\n",
    "        \n",
    "    def add(self, item, vol=1):\n",
    "        self.get_item(item)\n",
    "        for i in range(vol): \n",
    "            self.content.append(item)\n",
    "            self.price += self.get_item(item)\n",
    "        \n",
    "    def remove(self, item, vol=1):\n",
    "        for i in range(vol):\n",
    "            if item in self.content: \n",
    "                self.content.remove(item)\n",
    "                self.price -= self.get_item(item)\n",
    "                \n",
    "    def show(self):\n",
    "        temp_set = set(self.content)\n",
    "        for item in temp_set:\n",
    "            print( f'{item} - {self.content.count(item)} - ${round(self.get_item(item)*self.content.count(item),2)}')\n",
    "        print(f'Total cost: ${round(self.price,2)}')\n",
    "    \n",
    "    def get_item(self, item):\n",
    "        if item not in self.item_list:\n",
    "            self.item_list.update({item:random.uniform(2,10)})\n",
    "        return self.item_list.get(item)\n",
    "\n",
    "\n",
    "my_cart = Cart()\n",
    "my_cart.add('apple')\n",
    "my_cart.add('apple', 100)\n",
    "my_cart.add('banana', 5)\n",
    "my_cart.remove('apple', 2)\n",
    "my_cart.show()"
   ]
  },
  {
   "cell_type": "markdown",
   "metadata": {},
   "source": [
    "### Exercise 2 - Write a Python class for an Animal that has a name and energy attributes. The animal class should also have methods for eat, sleep, and play that will take in an integer and increase/decrease the energy of the animal with a formatted print statement"
   ]
  },
  {
   "cell_type": "code",
   "execution_count": null,
   "metadata": {},
   "outputs": [],
   "source": [
    "# Example 1\n",
    "# buddy = Animal('Buddy', 10)\n",
    "# buddy.play(5) -> \"Buddy is playing for 5 minutes. His energy is now 5\"\n",
    "# buddy.sleep(10) -> \"Buddy is sleeping for 5 minutes. His energy is now 15\""
   ]
  },
  {
   "cell_type": "code",
   "execution_count": 245,
   "metadata": {},
   "outputs": [
    {
     "name": "stdout",
     "output_type": "stream",
     "text": [
      "Huck is playing for 5 minutes. Their energy is now 5.\n",
      "Huck is playing for 15 minutes. They are now so sleepy and must sleep for 20 minutes.\n",
      "Huck is sleeping for 20 minutes. Their energy is now 10.\n",
      "Huck is sleeping for 5 minutes. Their energy is now 15.\n",
      "Huck is eating 100 treats. Their energy is now 1015.\n"
     ]
    }
   ],
   "source": [
    "class Animal():\n",
    "    def __init__(self, name, energy):\n",
    "        self.name = name.title()\n",
    "        self.energy = energy\n",
    "    \n",
    "    def play(self, time=10):\n",
    "        self.energy -= time\n",
    "        if self.energy <= 0:\n",
    "            print(f'{self.name} is playing for {time} minutes. They are now so sleepy and must sleep for {-1*self.energy+10} minutes.')\n",
    "            self.sleep(self.energy*-1+10)\n",
    "        else:\n",
    "            print(f'{self.name} is playing for {time} minutes. Their energy is now {self.energy}.')\n",
    "    \n",
    "    def sleep(self, time=10):\n",
    "        self.energy += time\n",
    "        print(f'{self.name} is sleeping for {time} minutes. Their energy is now {self.energy}.')\n",
    "        \n",
    "    def eat(self, food=1):\n",
    "        self.energy += food*10\n",
    "        print(f'{self.name} is eating {food} treats. Their energy is now {self.energy}.')\n",
    "    \n",
    "huck = Animal('huck', 10)\n",
    "huck.play(5)\n",
    "huck.play(15)\n",
    "huck.sleep(5)\n",
    "huck.eat(100)"
   ]
  }
 ],
 "metadata": {
  "kernelspec": {
   "display_name": "Python 3 (ipykernel)",
   "language": "python",
   "name": "python3"
  },
  "language_info": {
   "codemirror_mode": {
    "name": "ipython",
    "version": 3
   },
   "file_extension": ".py",
   "mimetype": "text/x-python",
   "name": "python",
   "nbconvert_exporter": "python",
   "pygments_lexer": "ipython3",
   "version": "3.10.9"
  }
 },
 "nbformat": 4,
 "nbformat_minor": 2
}
